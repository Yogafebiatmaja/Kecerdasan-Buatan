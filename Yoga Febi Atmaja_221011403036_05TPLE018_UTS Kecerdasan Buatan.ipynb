{
 "cells": [
  {
   "cell_type": "markdown",
   "id": "41a55978-2000-48b6-a133-f6fd22bae002",
   "metadata": {},
   "source": [
    "# Soal UTS"
   ]
  },
  {
   "cell_type": "code",
   "execution_count": 1,
   "id": "a14ff995-b858-4a41-9db3-adf0be09e7fd",
   "metadata": {},
   "outputs": [],
   "source": [
    "\n",
    "# Data\n",
    "\n",
    "company_detail_list = [\n",
    "      {\n",
    "          'name': 'Company 1',\n",
    "          'domain': 'Retail',\n",
    "          'country': 'United States'\n",
    "      },\n",
    "      {\n",
    "          'name': 'Company 2',\n",
    "          'domain': 'Technology',\n",
    "          'country': 'United Kingdom'\n",
    "      },\n",
    "      {\n",
    "          'name': 'Company 3',\n",
    "          'domain': 'Healthcare',\n",
    "          'country': 'United States'\n",
    "      }\n",
    "  ]\n",
    "\n",
    "employee_detail_list = [\n",
    "     {\n",
    "          'name': 'EMP-0001',\n",
    "          'first_name': 'John',\n",
    "          'last_name': 'Doe',\n",
    "          'full_name': 'John Doe',\n",
    "          'company': 'Company 1',\n",
    "          'nationality': 'Australia'\n",
    "      },\n",
    "      {\n",
    "          'name': 'EMP-0002',\n",
    "          'first_name': 'Tom',\n",
    "          'last_name': 'Smith',\n",
    "          'full_name': 'Tom Smith',\n",
    "          'company': 'Company 2',\n",
    "          'nationality': 'United States'\n",
    "      },\n",
    "      {\n",
    "          'name': 'EMP-0003',\n",
    "          'first_name': 'Andrew',\n",
    "          'last_name': 'Sebastian',\n",
    "          'full_name': 'Andrew Sebastian',\n",
    "          'company': 'Company 3',\n",
    "          'nationality': 'United States'\n",
    "      },\n",
    "      {\n",
    "          'name': 'EMP-0005',\n",
    "          'first_name': 'Ying Han',\n",
    "          'last_name': 'Tan',\n",
    "          'full_name': 'Ying Han Tan',\n",
    "          'company': 'Company 1',\n",
    "          'nationality': 'Australia'\n",
    "      },\n",
    "      {\n",
    "          'name': 'EMP-0015',\n",
    "          'first_name': 'Kenneth',\n",
    "          'last_name': 'Ng',\n",
    "          'full_name': 'Kenneth Ng',\n",
    "          'company': 'Company 3',\n",
    "          'nationality': 'United States'\n",
    "      },\n",
    "      {\n",
    "          'name': 'EMP-0018',\n",
    "          'first_name': 'Rubby',\n",
    "          'last_name': 'Lee',\n",
    "          'full_name': 'Rubby Lee',\n",
    "          'company': 'Company 2',\n",
    "          'nationality': 'Hong Kong'\n",
    "      },\n",
    "     {\n",
    "          'name': 'EMP-0017',\n",
    "          'first_name': 'Robert',\n",
    "          'last_name': 'White',\n",
    "          'full_name': 'Robert White',\n",
    "          'company': 'Company 1',\n",
    "          'nationality': 'United Kingdom'\n",
    "      }\n",
    "  ]\n",
    "\n"
   ]
  },
  {
   "cell_type": "markdown",
   "id": "7bbfe05d-4e9f-41f2-b453-bbfec795ab36",
   "metadata": {},
   "source": [
    "# Jawaban No 1"
   ]
  },
  {
   "cell_type": "code",
   "execution_count": 2,
   "id": "f65de621-c7c8-422f-9fd3-02a6b80827ba",
   "metadata": {},
   "outputs": [
    {
     "name": "stdout",
     "output_type": "stream",
     "text": [
      "[\n",
      "    {\n",
      "        \"name\": \"Company 3\"\n",
      "    },\n",
      "    {\n",
      "        \"name\": \"Company 2\"\n",
      "    },\n",
      "    {\n",
      "        \"name\": \"Company 1\"\n",
      "    }\n",
      "]\n"
     ]
    }
   ],
   "source": [
    "sorted_companies = sorted([{'name': company['name']} for company in company_detail_list], key=lambda x: x['name'], reverse=True)\n",
    "output = \"[\\n\"\n",
    "for company in sorted_companies:\n",
    "    output += \"    {\\n\"\n",
    "    output += f\"        \\\"name\\\": \\\"{company['name']}\\\"\\n\"\n",
    "    output += \"    },\\n\"\n",
    "output = output.rstrip(\",\\n\") + \"\\n]\"\n",
    "print(output)\n"
   ]
  },
  {
   "cell_type": "markdown",
   "id": "6af13f2e-5fe9-4f90-8cea-b2719e3f79f3",
   "metadata": {},
   "source": [
    "# Jawaban No 2"
   ]
  },
  {
   "cell_type": "code",
   "execution_count": 3,
   "id": "dc69854f-aa48-4a7d-847a-54e4a0e74365",
   "metadata": {},
   "outputs": [
    {
     "name": "stdout",
     "output_type": "stream",
     "text": [
      "Company 1: Retail (United States)\n",
      "Company 2: Technology (United Kingdom)\n",
      "Company 3: Healthcare (United States)\n"
     ]
    }
   ],
   "source": [
    "for company in company_detail_list:\n",
    "    print(f\"{company['name']}: {company['domain']} ({company['country']})\")\n"
   ]
  },
  {
   "cell_type": "markdown",
   "id": "48600183-94a1-47bd-aa0c-a5ad34cca232",
   "metadata": {},
   "source": [
    "# Jawaban No 3"
   ]
  },
  {
   "cell_type": "code",
   "execution_count": 4,
   "id": "c5f7e718-a98c-41c0-9a8d-ee6cf0c3be6c",
   "metadata": {},
   "outputs": [
    {
     "name": "stdout",
     "output_type": "stream",
     "text": [
      "{\n",
      "    \"Retail\": [\n",
      "        \"John Doe\",\n",
      "        \"Ying Han Tan\",\n",
      "        \"Robert White\",\n",
      "    ],\n",
      "    \"Technology\": [\n",
      "        \"Tom Smith\",\n",
      "        \"Rubby Lee\",\n",
      "    ],\n",
      "    \"Healthcare\": [\n",
      "        \"Andrew Sebastian\",\n",
      "        \"Kenneth Ng\",\n",
      "    ],\n",
      "}\n"
     ]
    }
   ],
   "source": [
    "company_domain_map = {company['name']: company['domain'] for company in company_detail_list}\n",
    "employees_by_domain = {}\n",
    "for employee in employee_detail_list:\n",
    "    domain = company_domain_map[employee['company']]\n",
    "    if domain not in employees_by_domain:\n",
    "        employees_by_domain[domain] = []\n",
    "    employees_by_domain[domain].append(employee['full_name'])\n",
    "print(\"{\")\n",
    "for domain, employees in employees_by_domain.items():\n",
    "    print(f'    \"{domain}\": [')\n",
    "    for name in employees:\n",
    "        print(f'        \"{name}\",')\n",
    "    print(\"    ],\")\n",
    "print(\"}\")\n"
   ]
  },
  {
   "cell_type": "markdown",
   "id": "326ac514-df1e-4512-89e7-e7d47b9d95cb",
   "metadata": {},
   "source": [
    "# Jawaban No 4"
   ]
  },
  {
   "cell_type": "code",
   "execution_count": 5,
   "id": "bb63211f-405e-4d18-8706-462953bd238b",
   "metadata": {},
   "outputs": [
    {
     "name": "stdout",
     "output_type": "stream",
     "text": [
      "[\n",
      "    {\n",
      "        \"full_name\": \"John Doe\",\n",
      "        \"company\": \"Company 1\",\n",
      "        \"country\": \"United States\"\n",
      "    },\n",
      "    {\n",
      "        \"full_name\": \"Tom Smith\",\n",
      "        \"company\": \"Company 2\",\n",
      "        \"country\": \"United Kingdom\"\n",
      "    },\n",
      "    {\n",
      "        \"full_name\": \"Andrew Sebastian\",\n",
      "        \"company\": \"Company 3\",\n",
      "        \"country\": \"United States\"\n",
      "    },\n",
      "    {\n",
      "        \"full_name\": \"Ying Han Tan\",\n",
      "        \"company\": \"Company 1\",\n",
      "        \"country\": \"United States\"\n",
      "    },\n",
      "    {\n",
      "        \"full_name\": \"Kenneth Ng\",\n",
      "        \"company\": \"Company 3\",\n",
      "        \"country\": \"United States\"\n",
      "    },\n",
      "    {\n",
      "        \"full_name\": \"Rubby Lee\",\n",
      "        \"company\": \"Company 2\",\n",
      "        \"country\": \"United Kingdom\"\n",
      "    },\n",
      "    {\n",
      "        \"full_name\": \"Robert White\",\n",
      "        \"company\": \"Company 1\",\n",
      "        \"country\": \"United States\"\n",
      "    },\n",
      "]\n"
     ]
    }
   ],
   "source": [
    "def get_employees_with_country():\n",
    "    company_country_map = {company['name']: company['country'] for company in company_detail_list}\n",
    "    employee_country_list = []\n",
    "    for employee in employee_detail_list:\n",
    "        employee_info = {\n",
    "            \"full_name\": employee['full_name'],\n",
    "            \"company\": employee['company'],\n",
    "            \"country\": company_country_map[employee['company']]\n",
    "        }\n",
    "        employee_country_list.append(employee_info)\n",
    "\n",
    "    return employee_country_list\n",
    "\n",
    "result = get_employees_with_country()\n",
    "print(\"[\")\n",
    "for item in result:\n",
    "    print(\"    {\")\n",
    "    print(f'        \"full_name\": \"{item[\"full_name\"]}\",')\n",
    "    print(f'        \"company\": \"{item[\"company\"]}\",')\n",
    "    print(f'        \"country\": \"{item[\"country\"]}\"')\n",
    "    print(\"    },\")\n",
    "print(\"]\")\n"
   ]
  },
  {
   "cell_type": "markdown",
   "id": "a41e235d-1f40-45d4-b04d-3ac667e7597b",
   "metadata": {},
   "source": [
    "# Jawaban No 5"
   ]
  },
  {
   "cell_type": "code",
   "execution_count": 6,
   "id": "7dceaf7c-827d-4a72-8437-52ffb6e9a606",
   "metadata": {},
   "outputs": [
    {
     "name": "stdout",
     "output_type": "stream",
     "text": [
      "[{'company': 'Company 1', 'employee_nationality': {'Australia': 2, 'United Kingdom': 1}}, {'company': 'Company 2', 'employee_nationality': {'United States': 1, 'Hong Kong': 1}}, {'company': 'Company 3', 'employee_nationality': {'United States': 2}}]\n"
     ]
    }
   ],
   "source": [
    "def count_employee_nationalities(company_detail_list, employee_detail_list):\n",
    "    company_nationalities = {}\n",
    "    for employee in employee_detail_list:\n",
    "        company = employee['company']\n",
    "        nationality = employee['nationality']\n",
    "        if company not in company_nationalities:\n",
    "            company_nationalities[company] = {}\n",
    "        if nationality not in company_nationalities[company]:\n",
    "            company_nationalities[company][nationality] = 0\n",
    "        company_nationalities[company][nationality] += 1\n",
    "    result = []\n",
    "    for company in company_detail_list:\n",
    "        company_name = company['name']\n",
    "        result.append({\n",
    "            \"company\": company_name,\n",
    "            \"employee_nationality\": company_nationalities.get(company_name, {})\n",
    "        })\n",
    "\n",
    "    return result\n",
    "result = count_employee_nationalities(company_detail_list, employee_detail_list)\n",
    "print(result)\n"
   ]
  },
  {
   "cell_type": "code",
   "execution_count": null,
   "id": "4ba0a997-df3c-4c9b-a5ba-4007f9e2d452",
   "metadata": {},
   "outputs": [],
   "source": []
  }
 ],
 "metadata": {
  "kernelspec": {
   "display_name": "Python 3 (ipykernel)",
   "language": "python",
   "name": "python3"
  },
  "language_info": {
   "codemirror_mode": {
    "name": "ipython",
    "version": 3
   },
   "file_extension": ".py",
   "mimetype": "text/x-python",
   "name": "python",
   "nbconvert_exporter": "python",
   "pygments_lexer": "ipython3",
   "version": "3.12.7"
  }
 },
 "nbformat": 4,
 "nbformat_minor": 5
}
